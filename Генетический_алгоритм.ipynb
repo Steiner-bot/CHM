{
  "nbformat": 4,
  "nbformat_minor": 0,
  "metadata": {
    "colab": {
      "name": "Генетический алгоритм.ipynb",
      "provenance": [],
      "collapsed_sections": [],
      "authorship_tag": "ABX9TyOYveOTygGpZ4V/vKwLRtEK",
      "include_colab_link": true
    },
    "kernelspec": {
      "name": "python3",
      "display_name": "Python 3"
    },
    "language_info": {
      "name": "python"
    }
  },
  "cells": [
    {
      "cell_type": "markdown",
      "metadata": {
        "id": "view-in-github",
        "colab_type": "text"
      },
      "source": [
        "<a href=\"https://colab.research.google.com/github/Steiner-bot/CHM/blob/main/%D0%93%D0%B5%D0%BD%D0%B5%D1%82%D0%B8%D1%87%D0%B5%D1%81%D0%BA%D0%B8%D0%B9_%D0%B0%D0%BB%D0%B3%D0%BE%D1%80%D0%B8%D1%82%D0%BC.ipynb\" target=\"_parent\"><img src=\"https://colab.research.google.com/assets/colab-badge.svg\" alt=\"Open In Colab\"/></a>"
      ]
    },
    {
      "cell_type": "code",
      "metadata": {
        "id": "3Zquzh92QuZx"
      },
      "source": [
        "import matplotlib.pyplot as plt\n",
        "import random\n",
        "import itertools as it"
      ],
      "execution_count": 15,
      "outputs": []
    },
    {
      "cell_type": "code",
      "metadata": {
        "id": "5jRlQjubKcz0"
      },
      "source": [
        "# ГОРОДА ДАГЕСТАНА"
      ],
      "execution_count": 16,
      "outputs": []
    },
    {
      "cell_type": "code",
      "metadata": {
        "id": "3Rgz89ExTaz4",
        "colab": {
          "base_uri": "https://localhost:8080/"
        },
        "outputId": "de9ea4b7-5f2a-4277-8de2-5179c82befb6"
      },
      "source": [
        "mas_distance = [[0, \"Махачкала\", \"Хасавюрт\", \"Каспийск\", \"Дербент\", \"Южно-сухокуск\", \"Беладжи\", \"Магарамкент\", \"Ботлих\", \"Леваши\", \"Новокаякент\" ],\n",
        "                [\"Махачкала\", 0, 86, 18, 129, 307, 155, 184, 145, 94, 86 ],\n",
        "                [\"Хасавюрт\", 86, 0, 105, 208, 225, 234, 264, 136 , 143 , 165  ],\n",
        "                [\"Каспийск\", 18, 105, 0, 120 , 324 , 146 , 175 , 162, 85 , 77  ],\n",
        "                [\"Дербент\", 129, 208, 120 , 0, 429 , 26 , 55 , 268 , 123 , 53 ],\n",
        "                [\"Южно-сухокуск\", 307, 225, 324 , 429 , 0, 455 , 485 , 361 , 364 , 386  ],\n",
        "                [\"Беладжи\", 155, 234, 146 , 26 , 455 , 0, 34 , 294 , 149 , 79  ],\n",
        "                [\"Магарамкент\", 184, 264, 175 , 55 , 485 , 34 , 0, 323 , 179 , 108  ],\n",
        "                [\"Ботлих\", 145, 136 , 162, 268 , 361 , 294 , 323 , 0, 138 , 224  ],\n",
        "                [\"Леваши\", 94, 143 , 85 , 123 , 364 , 149 , 179 , 138 , 0, 80  ],\n",
        "                [\"Новокаякент\", 86, 165 , 77 , 53, 386 , 79 , 108 , 224 , 80 , 0 ]]\n",
        "Dict_name = dict([[i-1,mas_distance[0][i]] for i in range(1,len(mas_distance[0]))])\n",
        "mas_distance=list([[mas_distance[i][j] for j in range(1,len(mas_distance[0]))] for i in range(1,len(mas_distance))])\n",
        "\n",
        "print(mas_distance[0])"
      ],
      "execution_count": 17,
      "outputs": [
        {
          "output_type": "stream",
          "text": [
            "[0, 86, 18, 129, 307, 155, 184, 145, 94, 86]\n"
          ],
          "name": "stdout"
        }
      ]
    },
    {
      "cell_type": "code",
      "metadata": {
        "id": "khHDzVp5ReBQ"
      },
      "source": [
        "class Way():\n",
        "    def __init__(self,len,clear = False):\n",
        "        if not clear:\n",
        "            self.len = len\n",
        "            self.mas = list([i for i in range(len)])\n",
        "            random.shuffle(self.mas)\n",
        "            self.length_path_res()\n",
        "        else:\n",
        "            self.len = len\n",
        "            self.mas = list([-1 for i in range(len)])\n",
        "    def mutation(self,count=1,Pmut = 0.1):\n",
        "        if(random.randrange(100)<Pmut):\n",
        "            for i in range(count):\n",
        "                one = random.randrange(len(self.mas))\n",
        "                two = random.randrange(len(self.mas))\n",
        "                if one>two: one, two = two, one\n",
        "                self.mas[one:two] = reversed(self.mas[one:two])\n",
        "            self.length_path_res()\n",
        "    def length_path_res(self):\n",
        "        self.length_path = mas_distance[self.mas[-1]][self.mas[0]]\n",
        "        for i in range(1,len(self.mas)):\n",
        "            self.length_path +=mas_distance[self.mas[i-1]][self.mas[i]]\n",
        "    def __mul__(self, other):\n",
        "\n",
        "        way_one = Way(len(self.mas),True)\n",
        "        way_two = Way(len(other.mas),True)\n",
        "\n",
        "        cut1 = random.randrange(len(way_one.mas))\n",
        "        cut2 = random.randrange(len(way_one.mas))\n",
        "        if  cut1>cut2:cut1,cut2=cut2,cut1\n",
        "        way_one.mas[cut1:cut2] = self.mas[cut1:cut2]\n",
        "        way_two.mas[cut1:cut2] = other.mas[cut1:cut2]\n",
        "\n",
        "        input = other.mas[:cut1]+self.mas[:cut1]+other.mas[cut2:]+self.mas[cut2:]\n",
        "        i=j=0\n",
        "        while i < len(way_one.mas):\n",
        "            if way_one.mas[i] == -1:\n",
        "                if input[j] not in way_one.mas:\n",
        "                    way_one.mas[i] = input[j]\n",
        "                    i += 1\n",
        "                    j += 1\n",
        "                else:j += 1\n",
        "            else:i += 1\n",
        "        input = self.mas[:cut1] + other.mas[:cut1] + self.mas[cut2:] + other.mas[cut2:]\n",
        "        i = j = 0\n",
        "        while i < len(way_two.mas):\n",
        "            if way_two.mas[i] == -1:\n",
        "                if input[j] not in way_two.mas:\n",
        "                    way_two.mas[i] = input[j]\n",
        "                    i += 1\n",
        "                    j += 1\n",
        "                else:\n",
        "                    j += 1\n",
        "            else:\n",
        "                i += 1\n",
        "        way_one.mutation()\n",
        "        way_two.mutation()\n",
        "\n",
        "        way_one.length_path_res()\n",
        "        way_two.length_path_res()\n",
        "        if way_one.length_path > way_two.length_path:\n",
        "            way_one, way_two = way_two,way_one\n",
        "        return way_one,way_two"
      ],
      "execution_count": 18,
      "outputs": []
    },
    {
      "cell_type": "code",
      "metadata": {
        "id": "QEztz8qJSUwo"
      },
      "source": [
        "class Box():\n",
        "    def __init__(self,max_way,length_way,ways = None):\n",
        "        self.max_way = max_way\n",
        "        if not ways:\n",
        "            self.ways = []\n",
        "            while len(self.ways)<self.max_way:\n",
        "                self.ways.append(Way(length_way))\n",
        "            self.ways = sorted(self.ways, key=lambda mas: mas.length_path)\n",
        "        else:self.ways = ways\n",
        "    def print(self):\n",
        "        print(\"_________\")\n",
        "        for i in range(len(self.ways)):\n",
        "            print(self.ways[i].length_path)\n",
        "        print(\"_________\")\n",
        "    def Add_ways(self):\n",
        "        j = i = 0\n",
        "        mas_ways_append = list(self.ways[random.randrange(len(self.ways))]*self.ways[random.randrange(len(self.ways))])\n",
        "\n",
        "        #print(\"_________\")\n",
        "        #for i in range(len(mas_ways_append)):\n",
        "        #    print(mas_ways_append[i].length_path)\n",
        "        #print(\"_________\")\n",
        "        if mas_ways_append[j].length_path < self.ways[i].length_path:\n",
        "            self.ways.insert(0,mas_ways_append[j])\n",
        "            i += 1\n",
        "            j += 1\n",
        "        while j < len(mas_ways_append) and i < len(self.ways):\n",
        "            if mas_ways_append[j].length_path < self.ways[i].length_path:\n",
        "                self.ways[i:i] = [mas_ways_append[j]]\n",
        "                i += 1\n",
        "                j += 1\n",
        "            else:\n",
        "                i += 1\n",
        "    def Del_ways(self):\n",
        "        while len(self.ways) > self.max_way:\n",
        "            self.ways.pop()\n",
        "    def AVG(self):\n",
        "        sum = 0\n",
        "        for i in range(len(self.ways)):\n",
        "            sum += self.ways[i].length_path\n",
        "        return sum//len(self.ways)\n",
        "\n",
        "\n"
      ],
      "execution_count": 19,
      "outputs": []
    },
    {
      "cell_type": "code",
      "metadata": {
        "colab": {
          "base_uri": "https://localhost:8080/",
          "height": 591
        },
        "id": "Pvchzwbw9f-u",
        "outputId": "9dad8467-f01d-4814-fb52-868f95bd7e25"
      },
      "source": [
        "box = Box(30,len(Dict_name)) \n",
        "mas_graf_X= [] # массив координат\n",
        "mas_graf_Y=[]\n",
        "i=0\n",
        "while( box.ways[0].length_path!=1192  ):\n",
        "    box.Add_ways()                       # скрещиваем \n",
        "    if i%5==0:                           # после 5 скрещиваний убираем лишние гены \n",
        "        box.Del_ways()\n",
        "    if i%25==0:\n",
        "      print(box.AVG(),i)               \n",
        "    i += 1\n",
        "    mas_graf_Y.append(box.AVG())        \n",
        "    mas_graf_X.append(i)\n",
        "print(\"1. \",end=\"\")\n",
        "print(\"mas\",box.ways[0].mas,\"Length =\",box.ways[0].length_path)\n",
        "\n",
        "print(\"2. \",end=\"\")\n",
        "for i in range(len(box.ways[0].mas)):\n",
        "    print(Dict_name[box.ways[0].mas[i]],end=\" , \")\n",
        "\n",
        "print(\"3. \",end=\"\")\n",
        "fig = plt.figure()\n",
        "plt.plot(mas_graf_X, mas_graf_Y)\n",
        "grid1 = plt.grid(True)  \n",
        "plt.show()\n",
        "\n"
      ],
      "execution_count": 20,
      "outputs": [
        {
          "output_type": "stream",
          "text": [
            "1874 0\n",
            "1648 25\n",
            "1490 50\n",
            "1366 75\n",
            "1300 100\n",
            "1283 125\n",
            "1281 150\n",
            "1274 175\n",
            "1265 200\n",
            "1265 225\n",
            "1265 250\n",
            "1265 275\n",
            "1265 300\n",
            "1265 325\n",
            "1265 350\n",
            "1265 375\n",
            "1265 400\n",
            "1. mas [1, 7, 8, 9, 3, 5, 6, 2, 0, 4] Length = 1192\n",
            "2. Хасавюрт , Ботлих , Леваши , Новокаякент , Дербент , Беладжи , Магарамкент , Каспийск , Махачкала , Южно-сухокуск , 3. "
          ],
          "name": "stdout"
        },
        {
          "output_type": "display_data",
          "data": {
            "image/png": "[encoded data removed]",
            "text/plain": [
              "<Figure size 432x288 with 1 Axes>"
            ]
          },
          "metadata": {
            "tags": [],
            "needs_background": "light"
          }
        }
      ]
    },
    {
      "cell_type": "code",
      "metadata": {
        "id": "I9__upgeUsCx",
        "colab": {
          "base_uri": "https://localhost:8080/"
        },
        "outputId": "b5d01678-c28d-4f9d-c1a5-b9d0236ad6a9"
      },
      "source": [
        "min = 100000000\n",
        "min_mas =[]\n",
        "for i in it.permutations(range(len(Dict_name))):\n",
        "  mas=list(i)\n",
        "  min_vr=mas_distance[mas[-1]][mas[0]]\n",
        "  for j in range(1,len(mas)):\n",
        "      min_vr +=mas_distance[mas[j-1]][mas[j]]\n",
        "  if min_vr<min:\n",
        "        min_mas=mas\n",
        "        min = min_vr\n",
        "\n",
        "print(min,min_mas)"
      ],
      "execution_count": 21,
      "outputs": [
        {
          "output_type": "stream",
          "text": [
            "1192 [0, 2, 3, 5, 6, 9, 8, 7, 1, 4]\n"
          ],
          "name": "stdout"
        }
      ]
    }
  ]
}